{
 "cells": [
  {
   "cell_type": "code",
   "execution_count": 19,
   "metadata": {},
   "outputs": [
    {
     "name": "stdout",
     "output_type": "stream",
     "text": [
      "Requirement already satisfied: python-dotenv in c:\\app\\python\\current\\lib\\site-packages (0.14.0)\n",
      "Requirement already satisfied: selenium in c:\\app\\python\\current\\lib\\site-packages (3.141.0)\n",
      "Requirement already satisfied: urllib3 in c:\\app\\python\\current\\lib\\site-packages (from selenium) (1.25.9)\n"
     ]
    }
   ],
   "source": [
    "# 実行に必要となる外部ライブラリのインストール\n",
    "!pip install python-dotenv\n",
    "!pip install selenium\n"
   ]
  },
  {
   "cell_type": "code",
   "execution_count": 1,
   "metadata": {},
   "outputs": [],
   "source": [
    "# 基本ライブラリ\n",
    "import time\n",
    "import os\n",
    "\n",
    "# selenium\n",
    "from selenium import webdriver\n",
    "from selenium.webdriver.common.by import By\n",
    "from selenium.webdriver.support.select import Select\n",
    "from selenium.webdriver.common.alert import Alert\n"
   ]
  },
  {
   "cell_type": "code",
   "execution_count": 2,
   "metadata": {},
   "outputs": [],
   "source": [
    "# .env\n",
    "%load_ext dotenv\n",
    "%dotenv\n",
    "\n",
    "PATH_CHROMEDRIVER = os.environ.get('PATH_CHROMEDRIVER')\n",
    "ZAPIER_URL = 'https://zapier.com/app/login'\n",
    "ZAPIER_USERID = os.environ.get('ZAPIER_USERID')\n",
    "ZAPIER_PASSWD = os.environ.get('ZAPIER_PASSWD')"
   ]
  },
  {
   "cell_type": "code",
   "execution_count": 33,
   "metadata": {},
   "outputs": [],
   "source": [
    "driver = webdriver.Chrome(executable_path=PATH_CHROMEDRIVER)\n",
    "driver.set_window_size(900,700)"
   ]
  },
  {
   "cell_type": "code",
   "execution_count": 34,
   "metadata": {},
   "outputs": [],
   "source": [
    "driver.get(ZAPIER_URL)\n",
    "time.sleep(5)\n",
    "\n",
    "driver.find_element(By.NAME, 'email').send_keys(ZAPIER_USERID)\n",
    "driver.find_element(By.TAG_NAME, 'button').click()\n",
    "time.sleep(2)"
   ]
  },
  {
   "cell_type": "code",
   "execution_count": 35,
   "metadata": {},
   "outputs": [],
   "source": [
    "driver.find_element(By.NAME, 'password').send_keys(ZAPIER_PASSWD)\n",
    "driver.find_element(By.TAG_NAME, 'button').click()\n",
    "time.sleep(5)"
   ]
  },
  {
   "cell_type": "code",
   "execution_count": 36,
   "metadata": {},
   "outputs": [],
   "source": [
    "buttons = driver.find_elements(By.TAG_NAME, 'button')\n",
    "for button in buttons:\n",
    "    if 'navMenu' in button.get_attribute('innerHTML'):\n",
    "        button.click()\n",
    "time.sleep(2)"
   ]
  },
  {
   "cell_type": "code",
   "execution_count": 37,
   "metadata": {},
   "outputs": [
    {
     "name": "stdout",
     "output_type": "stream",
     "text": [
      "TASKS\n",
      "509 / 750\n",
      "ZAPS\n",
      "1 / 20\n"
     ]
    }
   ],
   "source": [
    "figures = driver.find_elements(By.TAG_NAME, 'figure')\n",
    "for figure in figures:\n",
    "    if 'UsageBar' in figure.get_attribute('class'):\n",
    "        spans = figure.find_elements(By.TAG_NAME, 'span')\n",
    "        for span in spans:\n",
    "            if 'UsageBar' in span.get_attribute('class'):\n",
    "                print(span.text)"
   ]
  },
  {
   "cell_type": "code",
   "execution_count": 38,
   "metadata": {},
   "outputs": [
    {
     "name": "stdout",
     "output_type": "stream",
     "text": [
      "Monthly usage resets in 1 week\n"
     ]
    }
   ],
   "source": [
    "ptags = driver.find_elements(By.TAG_NAME, 'p')\n",
    "for ptag in ptags:\n",
    "    if 'resetInfo' in ptag.get_attribute('class'):\n",
    "        spans = ptag.find_elements(By.TAG_NAME, 'span')\n",
    "        for span in spans:\n",
    "            print(span.text)"
   ]
  },
  {
   "cell_type": "code",
   "execution_count": null,
   "metadata": {},
   "outputs": [],
   "source": []
  },
  {
   "cell_type": "code",
   "execution_count": null,
   "metadata": {},
   "outputs": [],
   "source": []
  }
 ],
 "metadata": {
  "kernelspec": {
   "display_name": "Python 3",
   "language": "python",
   "name": "python3"
  },
  "language_info": {
   "codemirror_mode": {
    "name": "ipython",
    "version": 3
   },
   "file_extension": ".py",
   "mimetype": "text/x-python",
   "name": "python",
   "nbconvert_exporter": "python",
   "pygments_lexer": "ipython3",
   "version": "3.8.3"
  }
 },
 "nbformat": 4,
 "nbformat_minor": 4
}
