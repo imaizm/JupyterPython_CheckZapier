{
 "cells": [
  {
   "cell_type": "code",
   "execution_count": 19,
   "metadata": {},
   "outputs": [
    {
     "name": "stdout",
     "output_type": "stream",
     "text": [
      "Requirement already satisfied: python-dotenv in c:\\app\\python\\current\\lib\\site-packages (0.14.0)\n",
      "Requirement already satisfied: selenium in c:\\app\\python\\current\\lib\\site-packages (3.141.0)\n",
      "Requirement already satisfied: urllib3 in c:\\app\\python\\current\\lib\\site-packages (from selenium) (1.25.9)\n"
     ]
    }
   ],
   "source": [
    "# 実行に必要となる外部ライブラリのインストール\n",
    "!pip install python-dotenv\n",
    "!pip install selenium\n"
   ]
  },
  {
   "cell_type": "code",
   "execution_count": 1,
   "metadata": {},
   "outputs": [],
   "source": [
    "# 基本ライブラリ\n",
    "import time\n",
    "import os\n",
    "\n",
    "# selenium\n",
    "from selenium import webdriver\n",
    "from selenium.webdriver.common.by import By\n",
    "from selenium.webdriver.support.select import Select\n",
    "from selenium.webdriver.common.alert import Alert\n"
   ]
  },
  {
   "cell_type": "code",
   "execution_count": 2,
   "metadata": {},
   "outputs": [],
   "source": [
    "# .env\n",
    "%load_ext dotenv\n",
    "%dotenv\n",
    "\n",
    "PATH_CHROMEDRIVER = os.environ.get('PATH_CHROMEDRIVER')\n",
    "ZAPIER_URL = 'https://zapier.com/app/login'\n",
    "ZAPIER_USERID = os.environ.get('ZAPIER_USERID')\n",
    "ZAPIER_PASSWD = os.environ.get('ZAPIER_PASSWD')"
   ]
  },
  {
   "cell_type": "code",
   "execution_count": 7,
   "metadata": {},
   "outputs": [],
   "source": [
    "driver = webdriver.Chrome(executable_path=PATH_CHROMEDRIVER)\n"
   ]
  },
  {
   "cell_type": "code",
   "execution_count": 9,
   "metadata": {},
   "outputs": [],
   "source": [
    "driver.get(ZAPIER_URL)\n",
    "time.sleep(5)\n",
    "\n",
    "driver.find_element(By.NAME, 'email').send_keys(ZAPIER_USERID)\n",
    "driver.find_element(By.TAG_NAME, 'button').click()\n",
    "time.sleep(2)"
   ]
  },
  {
   "cell_type": "code",
   "execution_count": 10,
   "metadata": {},
   "outputs": [],
   "source": [
    "driver.find_element(By.NAME, 'password').send_keys(ZAPIER_PASSWD)\n",
    "driver.find_element(By.TAG_NAME, 'button').click()\n",
    "time.sleep(2)"
   ]
  },
  {
   "cell_type": "code",
   "execution_count": 16,
   "metadata": {},
   "outputs": [
    {
     "name": "stdout",
     "output_type": "stream",
     "text": [
      "<span class=\"css-1smb0mq-Button__buttonContent--small--square\"><span class=\"css-18guv84-Button__buttonText\"><span aria-hidden=\"true\" data-testid=\"iconContainer\" class=\"css-rrhdse-Icon--formX--disable-pointer-events--block--24x24\"><svg width=\"24\" height=\"24\" viewBox=\"0 0 24 24\" fill=\"none\" xmlns=\"http://www.w3.org/2000/svg\"><path d=\"M19 6.41L17.59 5L12 10.59L6.41 5L5 6.41L10.59 12L5 17.59L6.41 19L12 13.41L17.59 19L19 17.59L13.41 12L19 6.41Z\" fill=\"#666666\"></path></svg></span></span></span>\n",
      "<span color=\"steel\" name=\"arrow-left\" size=\"16\" aria-hidden=\"true\" class=\"css-1kt2agk-Icon--base-Icon--color\"><svg viewBox=\"0 0 512 512\"><path d=\"M208 261L382 87c15-15 15-40 0-55s-39-14-54 0L130 231c-9 8-12 19-11 30-1 11 2 22 11 30l198 198c15 15 39 16 54 0 15-15 15-39 0-54z\"></path></svg></span>\n",
      "<span color=\"deepSpace\" name=\"arrow-right\" size=\"16\" aria-hidden=\"true\" class=\"css-11sh276-Icon--base-Icon--color\"><svg viewBox=\"0 0 512 512\"><path d=\"M304 261L130 435c-15 15-15 39 0 54 15 16 39 15 54 0l198-198c9-8 12-19 11-30 1-11-2-22-11-30L184 32c-15-14-39-15-54 0s-15 40 0 55z\"></path></svg></span>\n"
     ]
    }
   ],
   "source": [
    "buttons = driver.find_elements(By.TAG_NAME, 'button')\n",
    "for button in buttons:\n",
    "    print(button.get_attribute('innerHTML'))"
   ]
  },
  {
   "cell_type": "code",
   "execution_count": null,
   "metadata": {},
   "outputs": [],
   "source": [
    "driver.get_window_size"
   ]
  }
 ],
 "metadata": {
  "kernelspec": {
   "display_name": "Python 3",
   "language": "python",
   "name": "python3"
  },
  "language_info": {
   "codemirror_mode": {
    "name": "ipython",
    "version": 3
   },
   "file_extension": ".py",
   "mimetype": "text/x-python",
   "name": "python",
   "nbconvert_exporter": "python",
   "pygments_lexer": "ipython3",
   "version": "3.8.3"
  }
 },
 "nbformat": 4,
 "nbformat_minor": 4
}
